{
 "cells": [
  {
   "cell_type": "markdown",
   "metadata": {},
   "source": [
    "# Assignment 5\n",
    "\n",
    "Task 1: Use PCA from previous assignment to convert data from 4D to 2D. If you did not manage to implement PCA, you can simply use first 2 dimensions of the database. (4 points if PCA is used, otherwise 1 point)\n",
    "\n",
    "Task 2a: Implement kNN classification algorithm and apply it to classify iris database. (2 points)\n",
    "\n",
    "Task 2b: Try different values of k = {1, 2, 3, 4, 5} and print prediction accuracy for validation set. Please select optimal value of k and justify your selection. (3 points)\n",
    "\n",
    "Task 3: Implement random forest classification and apply it to classify iris database. Use any reasonable parameters you want. (3 points)\n",
    "\n",
    "Taks 4: Visualize results of kNN and random forests (4 points)"
   ]
  },
  {
   "cell_type": "code",
   "execution_count": 25,
   "metadata": {},
   "outputs": [],
   "source": [
    "# Load packages as usual\n",
    "%matplotlib inline\n",
    "import numpy as np\n",
    "import pandas as pd\n",
    "import matplotlib.pyplot as plt\n",
    "import math\n",
    "import random\n",
    "import matplotlib.cm as cm\n",
    "import numpy.matlib\n",
    "from matplotlib.colors import ListedColormap\n",
    "from sklearn.neighbors import KNeighborsClassifier\n",
    "from sklearn.ensemble import RandomForestClassifier\n",
    "from heapq import nsmallest\n",
    "\n",
    "\n",
    "# Manipulating figure sizes\n",
    "import matplotlib\n",
    "matplotlib.rcParams['figure.figsize'] = (15,7)\n",
    "matplotlib.rc('font', size=15)\n",
    "matplotlib.rc('axes', titlesize=15)"
   ]
  },
  {
   "cell_type": "markdown",
   "metadata": {},
   "source": [
    "### Database\n",
    "\n",
    "We have a database of iris flowers, where each datapoint is defined with 4 features: a) sepal length in cm, b) sepal width in cm, c) petal length in cm, d) petal width in cm. Each datapoint has also a label from the set: Iris Setosa (label = 0), Iris Versicolour (label = 1), Iris Virginica (label = 2)."
   ]
  },
  {
   "cell_type": "markdown",
   "metadata": {},
   "source": [
    "### Reading data"
   ]
  },
  {
   "cell_type": "code",
   "execution_count": 26,
   "metadata": {},
   "outputs": [
    {
     "name": "stdout",
     "output_type": "stream",
     "text": [
      "shape training =  (88, 4)\n",
      "shape validation =  (29, 4)\n",
      "shape testing =  (31, 4)\n"
     ]
    },
    {
     "name": "stderr",
     "output_type": "stream",
     "text": [
      "/tmp/ipykernel_3195/335260576.py:4: DeprecationWarning: `np.float` is a deprecated alias for the builtin `float`. To silence this warning, use `float` by itself. Doing this will not modify any behavior and is safe. If you specifically wanted the numpy scalar type, use `np.float64` here.\n",
      "Deprecated in NumPy 1.20; for more details and guidance: https://numpy.org/devdocs/release/1.20.0-notes.html#deprecations\n",
      "  values = emp_df.values.astype(np.float)\n",
      "/tmp/ipykernel_3195/335260576.py:15: DeprecationWarning: `np.float` is a deprecated alias for the builtin `float`. To silence this warning, use `float` by itself. Doing this will not modify any behavior and is safe. If you specifically wanted the numpy scalar type, use `np.float64` here.\n",
      "Deprecated in NumPy 1.20; for more details and guidance: https://numpy.org/devdocs/release/1.20.0-notes.html#deprecations\n",
      "  return trainingFeatures.astype(np.float), trainingLabels.astype(np.int), \\\n",
      "/tmp/ipykernel_3195/335260576.py:15: DeprecationWarning: `np.int` is a deprecated alias for the builtin `int`. To silence this warning, use `int` by itself. Doing this will not modify any behavior and is safe. When replacing `np.int`, you may wish to use e.g. `np.int64` or `np.int32` to specify the precision. If you wish to review your current use, check the release note link for additional information.\n",
      "Deprecated in NumPy 1.20; for more details and guidance: https://numpy.org/devdocs/release/1.20.0-notes.html#deprecations\n",
      "  return trainingFeatures.astype(np.float), trainingLabels.astype(np.int), \\\n",
      "/tmp/ipykernel_3195/335260576.py:16: DeprecationWarning: `np.float` is a deprecated alias for the builtin `float`. To silence this warning, use `float` by itself. Doing this will not modify any behavior and is safe. If you specifically wanted the numpy scalar type, use `np.float64` here.\n",
      "Deprecated in NumPy 1.20; for more details and guidance: https://numpy.org/devdocs/release/1.20.0-notes.html#deprecations\n",
      "  validationFeatures.astype(np.float), validationLabels.astype(np.int), \\\n",
      "/tmp/ipykernel_3195/335260576.py:16: DeprecationWarning: `np.int` is a deprecated alias for the builtin `int`. To silence this warning, use `int` by itself. Doing this will not modify any behavior and is safe. When replacing `np.int`, you may wish to use e.g. `np.int64` or `np.int32` to specify the precision. If you wish to review your current use, check the release note link for additional information.\n",
      "Deprecated in NumPy 1.20; for more details and guidance: https://numpy.org/devdocs/release/1.20.0-notes.html#deprecations\n",
      "  validationFeatures.astype(np.float), validationLabels.astype(np.int), \\\n",
      "/tmp/ipykernel_3195/335260576.py:17: DeprecationWarning: `np.float` is a deprecated alias for the builtin `float`. To silence this warning, use `float` by itself. Doing this will not modify any behavior and is safe. If you specifically wanted the numpy scalar type, use `np.float64` here.\n",
      "Deprecated in NumPy 1.20; for more details and guidance: https://numpy.org/devdocs/release/1.20.0-notes.html#deprecations\n",
      "  testingFeatures.astype(np.float), testingLabels.astype(np.int)\n",
      "/tmp/ipykernel_3195/335260576.py:17: DeprecationWarning: `np.int` is a deprecated alias for the builtin `int`. To silence this warning, use `int` by itself. Doing this will not modify any behavior and is safe. When replacing `np.int`, you may wish to use e.g. `np.int64` or `np.int32` to specify the precision. If you wish to review your current use, check the release note link for additional information.\n",
      "Deprecated in NumPy 1.20; for more details and guidance: https://numpy.org/devdocs/release/1.20.0-notes.html#deprecations\n",
      "  testingFeatures.astype(np.float), testingLabels.astype(np.int)\n"
     ]
    }
   ],
   "source": [
    "def __read(fileName, pTrainSamples = 0.6, pValidSamples = 0.2):\n",
    "    emp_df = pd.read_csv(fileName)\n",
    "    values = emp_df.values\n",
    "    values = emp_df.values.astype(np.float)\n",
    "    \n",
    "    nTrainSamples = int(values.shape[0] * pTrainSamples)\n",
    "    nValidSamples = int(values.shape[0] * pValidSamples)\n",
    "    \n",
    "    trainingFeatures = values[0:nTrainSamples, 0:-1]\n",
    "    trainingLabels   = values[0:nTrainSamples, -1]\n",
    "    validationFeatures = values[nTrainSamples:nTrainSamples + nValidSamples, 0:-1]\n",
    "    validationLabels   = values[nTrainSamples:nTrainSamples + nValidSamples, -1]\n",
    "    testingFeatures    = values[nTrainSamples + nValidSamples:, 0:-1]\n",
    "    testingLabels      = values[nTrainSamples + nValidSamples:, -1]\n",
    "    return trainingFeatures.astype(np.float), trainingLabels.astype(np.int), \\\n",
    "           validationFeatures.astype(np.float), validationLabels.astype(np.int), \\\n",
    "           testingFeatures.astype(np.float), testingLabels.astype(np.int)\n",
    "\n",
    "\n",
    "trainingFeatures, trainingLabels, validationFeatures, validationLabels, testingFeatures, testingLabels = __read('iris_new.csv')\n",
    "print('shape training = ', trainingFeatures.shape)\n",
    "print('shape validation = ', validationFeatures.shape)\n",
    "print('shape testing = ', testingFeatures.shape)"
   ]
  },
  {
   "cell_type": "markdown",
   "metadata": {},
   "source": [
    "### Converting data to two dimensions using PCA\n",
    "\n",
    "The conversion to 2D from 4D input is needed to simplify visualization of the results. Please generate PCA on the training, and then convert training and testing data from 4D to 2D. "
   ]
  },
  {
   "cell_type": "code",
   "execution_count": 27,
   "metadata": {},
   "outputs": [
    {
     "name": "stdout",
     "output_type": "stream",
     "text": [
      "shape training =  (88, 2)\n",
      "shape validation =  (29, 2)\n",
      "shape testing =  (31, 2)\n"
     ]
    }
   ],
   "source": [
    "def __PCA(data):\n",
    "    meanTrainingFeatures = np.mean(data.T, axis = 1)\n",
    "\n",
    "    data_cent = data.T - meanTrainingFeatures.reshape((-1, 1))\n",
    "    data_cent = np.cov(data_cent)\n",
    "    PCevals, PCevecs = np.linalg.eigh(data_cent)\n",
    "    PCevals = np.flip(PCevals, 0)\n",
    "    PCevecs = np.flip(PCevecs, 1)\n",
    "    # return\n",
    "    return PCevals, PCevecs\n",
    "\n",
    "\n",
    "def __transformData(features, PCevecs):\n",
    "    return np.dot(features,  PCevecs[:, 0:2])\n",
    "\n",
    "\n",
    "PCevals, PCevecs = __PCA(trainingFeatures)\n",
    "trainingFeatures2D = __transformData(trainingFeatures, PCevecs)\n",
    "validationFeatures2D = __transformData(validationFeatures, PCevecs)\n",
    "testingFeatures2D = __transformData(testingFeatures, PCevecs)\n",
    "print('shape training = ', trainingFeatures2D.shape)\n",
    "print('shape validation = ', validationFeatures2D.shape)\n",
    "print('shape testing = ', testingFeatures2D.shape)"
   ]
  },
  {
   "cell_type": "markdown",
   "metadata": {},
   "source": [
    "### Visualizing 2D data\n",
    "\n",
    "This is visualization of the training data with labels."
   ]
  },
  {
   "cell_type": "code",
   "execution_count": 28,
   "metadata": {},
   "outputs": [
    {
     "data": {
      "image/png": "[encoded data removed]",
      "text/plain": [
       "<Figure size 1080x504 with 1 Axes>"
      ]
     },
     "metadata": {
      "needs_background": "light"
     },
     "output_type": "display_data"
    }
   ],
   "source": [
    "def __visualizeLabels(features, referenceLabels):\n",
    "    plt.figure()\n",
    "    cmap_light = ListedColormap(['#FFAAAA', '#AAFFAA', '#AAAAFF'])\n",
    "    cmap_bold  = ListedColormap(['#FF0000', '#00FF00', '#0000FF'])\n",
    "    y = referenceLabels\n",
    "\n",
    "    plt.scatter(features[:, 0], features[:, 1], c = y, cmap = cmap_bold)\n",
    "    plt.xlim(features[:, 0].min() - 0.1, features[:, 0].max() + 0.1)\n",
    "    plt.ylim(features[:, 1].min() - 0.1, features[:, 1].max() + 0.1)\n",
    "    plt.show()\n",
    "    t = 0\n",
    "    \n",
    "__visualizeLabels(trainingFeatures2D, trainingLabels)"
   ]
  },
  {
   "cell_type": "markdown",
   "metadata": {},
   "source": [
    "### k-NN implementation\n",
    "\n",
    "Implement k-NN for prediction of iris labels. Test k-NN for different k-s and find the best one in the space of {1, 2, 3, 4, 5}. Use validation set for testing different k values.\n",
    "\n",
    "Please note that it is NOT allowed to use KNeighborsClassifier or other existing implementation of k-NN. We expect that can implement it yourself.\n"
   ]
  },
  {
   "cell_type": "code",
   "execution_count": 29,
   "metadata": {},
   "outputs": [
    {
     "name": "stdout",
     "output_type": "stream",
     "text": [
      "accuracy =  93.10344827586206 %\n",
      "accuracy =  96.55172413793103 %\n",
      "accuracy =  100.0 %\n",
      "accuracy =  100.0 %\n",
      "accuracy =  100.0 %\n"
     ]
    }
   ],
   "source": [
    "def __kNNTest(trainingFeatures2D, trainingLabels, n_neighbors, validationFeatures2D, validationLabels):\n",
    "    accuracy = 0.0\n",
    "    for i in range(validationFeatures2D.shape[0]):\n",
    "        valGuess = 0.0\n",
    "        distance = []\n",
    "        for j in range(trainingFeatures2D.shape[0]):\n",
    "            distance.append(np.sqrt((trainingFeatures2D[j, 0] - validationFeatures2D[i, 0]) ** 2.0 \n",
    "                                  + (trainingFeatures2D[j, 1] - validationFeatures2D[i, 1]) ** 2.0))\n",
    "        smallestN = nsmallest(n_neighbors, distance)\n",
    "        temp = []\n",
    "        for j in range(n_neighbors):\n",
    "            temp.append(trainingLabels[distance.index(smallestN[j])])\n",
    "            valGuess = max(set(temp), key = temp.count)\n",
    "        if(valGuess == validationLabels[i]):\n",
    "            accuracy += 1.0\n",
    "\n",
    "    accuracy /= len(validationFeatures2D)\n",
    "    accuracy *= 100.0\n",
    "    return accuracy\n",
    "\n",
    "for n in range(1, 6):\n",
    "    print('accuracy = ', __kNNTest(trainingFeatures2D, trainingLabels, n, validationFeatures2D, validationLabels), \"%\")\n"
   ]
  },
  {
   "cell_type": "markdown",
   "metadata": {},
   "source": [
    "### Random forests implementation\n",
    "\n",
    "Implement random forest for prediciton of iris labels. Select any reasonable configuration of parameters for the random forest predictor\n",
    "\n",
    "Here you are allowed to use existing implementations, please check RandomForestClassifier from sklearn"
   ]
  },
  {
   "cell_type": "code",
   "execution_count": 30,
   "metadata": {},
   "outputs": [
    {
     "ename": "NameError",
     "evalue": "name 'predictor' is not defined",
     "output_type": "error",
     "traceback": [
      "\u001b[0;31m---------------------------------------------------------------------------\u001b[0m",
      "\u001b[0;31mNameError\u001b[0m                                 Traceback (most recent call last)",
      "\u001b[0;32m/tmp/ipykernel_3195/2832839014.py\u001b[0m in \u001b[0;36m<module>\u001b[0;34m\u001b[0m\n\u001b[1;32m      3\u001b[0m     \u001b[0;32mreturn\u001b[0m \u001b[0mpredictor\u001b[0m\u001b[0;34m\u001b[0m\u001b[0;34m\u001b[0m\u001b[0m\n\u001b[1;32m      4\u001b[0m \u001b[0;34m\u001b[0m\u001b[0m\n\u001b[0;32m----> 5\u001b[0;31m \u001b[0mpredictor\u001b[0m \u001b[0;34m=\u001b[0m \u001b[0m__randomForests\u001b[0m\u001b[0;34m(\u001b[0m\u001b[0mtrainingFeatures2D\u001b[0m\u001b[0;34m,\u001b[0m \u001b[0mtrainingLabels\u001b[0m\u001b[0;34m)\u001b[0m\u001b[0;34m\u001b[0m\u001b[0;34m\u001b[0m\u001b[0m\n\u001b[0m",
      "\u001b[0;32m/tmp/ipykernel_3195/2832839014.py\u001b[0m in \u001b[0;36m__randomForests\u001b[0;34m(trainingFeatures2D, trainingLabels)\u001b[0m\n\u001b[1;32m      1\u001b[0m \u001b[0;32mdef\u001b[0m \u001b[0m__randomForests\u001b[0m\u001b[0;34m(\u001b[0m\u001b[0mtrainingFeatures2D\u001b[0m\u001b[0;34m,\u001b[0m \u001b[0mtrainingLabels\u001b[0m\u001b[0;34m)\u001b[0m\u001b[0;34m:\u001b[0m\u001b[0;34m\u001b[0m\u001b[0;34m\u001b[0m\u001b[0m\n\u001b[1;32m      2\u001b[0m     \u001b[0;31m#---put your code here\u001b[0m\u001b[0;34m\u001b[0m\u001b[0;34m\u001b[0m\u001b[0m\n\u001b[0;32m----> 3\u001b[0;31m     \u001b[0;32mreturn\u001b[0m \u001b[0mpredictor\u001b[0m\u001b[0;34m\u001b[0m\u001b[0;34m\u001b[0m\u001b[0m\n\u001b[0m\u001b[1;32m      4\u001b[0m \u001b[0;34m\u001b[0m\u001b[0m\n\u001b[1;32m      5\u001b[0m \u001b[0mpredictor\u001b[0m \u001b[0;34m=\u001b[0m \u001b[0m__randomForests\u001b[0m\u001b[0;34m(\u001b[0m\u001b[0mtrainingFeatures2D\u001b[0m\u001b[0;34m,\u001b[0m \u001b[0mtrainingLabels\u001b[0m\u001b[0;34m)\u001b[0m\u001b[0;34m\u001b[0m\u001b[0;34m\u001b[0m\u001b[0m\n",
      "\u001b[0;31mNameError\u001b[0m: name 'predictor' is not defined"
     ]
    }
   ],
   "source": [
    "def __randomForests(trainingFeatures2D, trainingLabels):\n",
    "    #---put your code here\n",
    "    return predictor\n",
    "\n",
    "predictor = __randomForests(trainingFeatures2D, trainingLabels)"
   ]
  },
  {
   "cell_type": "markdown",
   "metadata": {},
   "source": [
    "### Visualizing predictor boundaries\n",
    "\n",
    "Modify function __visualizeLabels to visualize not only labels but also decision boundaries of a predictor. Apply kNN classifier with optimal k on testing features and visualize the obtained results. Visualize the obtained results in comparion with the true testing labels. Apply random forest classifier on testing features and visualize the obtained results.\n",
    "\n",
    "Here, you are allowed to use KNeighborsClassifier in __kNN.\n",
    "\n",
    "Hint: check this example https://stackoverflow.com/questions/41138706/recreating-decision-boundary-plot-in-python-with-scikit-learn-and-matplotlib"
   ]
  },
  {
   "cell_type": "code",
   "execution_count": null,
   "metadata": {},
   "outputs": [],
   "source": [
    "def __visualizePredictions(predictor, features, referenceLabels):\n",
    "    plt.figure()\n",
    "    cmap_light = ListedColormap(['#FFAAAA', '#AAFFAA', '#AAAAFF'])\n",
    "    cmap_bold  = ListedColormap(['#FF0000', '#00FF00', '#0000FF'])\n",
    "    h = 0.05\n",
    "    y = referenceLabels\n",
    "    #---put your code here\n",
    "    #--- it is expexted that you get xx and yy as coordinates for visualization, and Z as labels for area visualization\n",
    "    plt.pcolormesh(xx, yy, Z, cmap = cmap_light)\n",
    "    # Plot also the training points\n",
    "    plt.scatter(features[:, 0], features[:, 1], c = y, cmap = cmap_bold)\n",
    "    plt.xlim(xx.min(), xx.max())\n",
    "    plt.ylim(yy.min(), yy.max())\n",
    "    plt.show()\n",
    "\n",
    "\n",
    "#k = ??\n",
    "kNNPredictor = __kNN(trainingFeatures2D, trainingLabels, k)\n",
    "RFPredictor  = __randomForests(trainingFeatures2D, trainingLabels)\n",
    "__visualizePredictions(kNNPredictor, testingFeatures2D, testingLabels)\n",
    "__visualizePredictions(RFPredictor, testingFeatures2D, testingLabels)"
   ]
  }
 ],
 "metadata": {
  "kernelspec": {
   "display_name": "Python 3",
   "language": "python",
   "name": "python3"
  },
  "language_info": {
   "codemirror_mode": {
    "name": "ipython",
    "version": 3
   },
   "file_extension": ".py",
   "mimetype": "text/x-python",
   "name": "python",
   "nbconvert_exporter": "python",
   "pygments_lexer": "ipython3",
   "version": "3.9.7"
  }
 },
 "nbformat": 4,
 "nbformat_minor": 2
}
