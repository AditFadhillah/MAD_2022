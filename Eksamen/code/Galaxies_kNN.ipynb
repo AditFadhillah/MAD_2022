{
 "cells": [
  {
   "cell_type": "code",
   "execution_count": 1,
   "metadata": {},
   "outputs": [],
   "source": [
    "import csv\n",
    "import numpy as np\n",
    "from heapq import nsmallest\n",
    "import matplotlib.pyplot as plt"
   ]
  },
  {
   "cell_type": "code",
   "execution_count": 2,
   "metadata": {},
   "outputs": [
    {
     "name": "stdout",
     "output_type": "stream",
     "text": [
      "Number of training instances: 500\n",
      "Number of test instances: 500\n",
      "Number of attributes: 10\n"
     ]
    }
   ],
   "source": [
    "train_data = np.loadtxt(\"../data/galaxies_train.csv\", delimiter=\",\", skiprows=1)\n",
    "test_data = np.loadtxt(\"../data/galaxies_test.csv\", delimiter=\",\", skiprows=1)\n",
    "\n",
    "X_train = train_data[:,1:]\n",
    "t_train = train_data[:,0]\n",
    "X_test = test_data[:,1:]\n",
    "t_test = test_data[:,0]\n",
    "print(\"Number of training instances: %i\" % X_train.shape[0])\n",
    "print(\"Number of test instances: %i\" % X_test.shape[0])\n",
    "print(\"Number of attributes: %i\" % X_train.shape[1])"
   ]
  },
  {
   "cell_type": "code",
   "execution_count": 3,
   "metadata": {},
   "outputs": [],
   "source": [
    "# NOTE: You are supposed to use this strucuture, i.e., \n",
    "# the pre-defined functions and variables. If you \n",
    "# have difficulties to keep this structure, you ARE \n",
    "# ALLOWED to adapt/change the code structure slightly!\n",
    "# You might also want to add additional functions or\n",
    "# variables.\n",
    "\n",
    "class NearestNeighborRegressor:\n",
    "    \n",
    "    def __init__(self, n_neighbors=3, dist_measure=\"euclidean\", dist_matrix=None):\n",
    "        \"\"\"\n",
    "        Initializes the model.\n",
    "        \n",
    "        Parameters\n",
    "        ----------\n",
    "        n_neighbors : The number of nearest neigbhors (default 1)\n",
    "        dist_measure : The distance measure used (default \"euclidean\")\n",
    "        dist_matrix : The distance matrix if needed (default \"None\")\n",
    "        \"\"\"\n",
    "        \n",
    "        self.n_neighbors = n_neighbors\n",
    "        self.dist_measure = dist_measure\n",
    "        self.dist_matrix = dist_matrix\n",
    "    \n",
    "    def fit(self, X, t):\n",
    "        \"\"\"\n",
    "        Fits the nearest neighbor regression model.\n",
    "\n",
    "        Parameters\n",
    "        ----------\n",
    "        X : Array of shape [n_samples, n_features]\n",
    "        t : Array of length n_samples\n",
    "        \"\"\" \n",
    "        \n",
    "        self.X_train = X\n",
    "        self.t_train = t\n",
    "    \n",
    "    def predict(self, X):\n",
    "        \"\"\"\n",
    "        Computes predictions for a new set of points.\n",
    "\n",
    "        Parameters\n",
    "        ----------\n",
    "        X : Array of shape [n_samples, n_features]\n",
    "\n",
    "        Returns\n",
    "        -------\n",
    "        predictions : Array of length n_samples\n",
    "        \"\"\"         \n",
    "        \n",
    "        predictions = []\n",
    "        if self.dist_measure == \"euclidean\":\n",
    "            for i in range(X.shape[0]):\n",
    "                distance = []\n",
    "                for j in range(X_train.shape[0]):\n",
    "                    distance.append(np.linalg.norm(X_train[j] - X[i]))\n",
    "                smallestN = nsmallest(self.n_neighbors, distance)\n",
    "                temp = []\n",
    "                for j in range(self.n_neighbors):\n",
    "                    temp.append(self.t_train[distance.index(smallestN[j])])\n",
    "                predictions.append(sum(temp) / len(temp))\n",
    "            predictions = np.array(predictions)\n",
    "            return predictions\n",
    "        \n",
    "        if self.dist_measure == \"dist_matrix\":\n",
    "            for i in range(X.shape[0]):\n",
    "                distance = []\n",
    "                for j in range(X_train.shape[0]):\n",
    "                    temp = np.dot(self.dist_matrix, (X_train[j] - X[i]))\n",
    "                    temp = np.dot((X_train[j] - X[i]).T, temp)\n",
    "                    distance.append(temp)\n",
    "                smallestN = nsmallest(self.n_neighbors, distance)\n",
    "                temp = []\n",
    "                for j in range(self.n_neighbors):\n",
    "                    temp.append(self.t_train[distance.index(smallestN[j])])\n",
    "                predictions.append(sum(temp) / len(temp))\n",
    "            predictions = np.array(predictions)\n",
    "            return predictions\n",
    "    "
   ]
  },
  {
   "cell_type": "code",
   "execution_count": 4,
   "metadata": {},
   "outputs": [
    {
     "name": "stdout",
     "output_type": "stream",
     "text": [
      "rmse:  0.8243064553494787\n",
      "rmse:  1.0997971796682453\n"
     ]
    }
   ],
   "source": [
    "KNN = NearestNeighborRegressor()\n",
    "KNN.fit(X_train, t_train)\n",
    "prediction = KNN.predict(X_test)\n",
    "\n",
    "mDiag = [0.00001, 0.00001, 0.00001, 0.00001, 0.00001, 0.00001, 0.00001, 0.00001, 1.0, 1.0]\n",
    "M = np.diag(mDiag)\n",
    "KNND = NearestNeighborRegressor(dist_measure = \"dist_matrix\", dist_matrix= M)\n",
    "KNND.fit(X_train, t_train)\n",
    "predDist = KNND.predict(X_test)\n",
    "def rmse(t, tp):\n",
    "        N = t.shape[0]\n",
    "        sum = 0.0\n",
    "        for i in range (N):\n",
    "            sum = sum + (t[i] - tp[i]) ** 2\n",
    "        rmse = np.sqrt(sum/N)\n",
    "        return rmse\n",
    "rmseTest = rmse(prediction, t_test)\n",
    "print(\"rmse: \", rmseTest)\n",
    "rmseTest2 = rmse(predDist, t_test)\n",
    "print(\"rmse: \", rmseTest2)"
   ]
  },
  {
   "cell_type": "code",
   "execution_count": 5,
   "metadata": {},
   "outputs": [
    {
     "data": {
      "image/png": "[encoded data removed]",
      "text/plain": [
       "<Figure size 432x288 with 1 Axes>"
      ]
     },
     "metadata": {
      "needs_background": "light"
     },
     "output_type": "display_data"
    }
   ],
   "source": [
    "plt.figure()\n",
    "plt.scatter(t_test, prediction)\n",
    "plt.title(\"True redshift vs predicted redshift\")\n",
    "plt.ylabel(\"Real values\")\n",
    "plt.xlabel(\"Predicted values\")\n",
    "plt.xlim([0, 7])\n",
    "plt.ylim([0, 7])\n",
    "plt.show()"
   ]
  },
  {
   "cell_type": "code",
   "execution_count": 6,
   "metadata": {},
   "outputs": [
    {
     "data": {
      "image/png": "[encoded data removed]",
      "text/plain": [
       "<Figure size 432x288 with 1 Axes>"
      ]
     },
     "metadata": {
      "needs_background": "light"
     },
     "output_type": "display_data"
    }
   ],
   "source": [
    "plt.figure()\n",
    "plt.scatter(t_test, predDist)\n",
    "plt.title(\"True redshift vs predicted redshift\")\n",
    "plt.ylabel(\"Real values\")\n",
    "plt.xlabel(\"Predicted values\")\n",
    "plt.xlim([0,7])\n",
    "plt.ylim([0,7])\n",
    "plt.show()"
   ]
  }
 ],
 "metadata": {
  "kernelspec": {
   "display_name": "Python 3",
   "language": "python",
   "name": "python3"
  },
  "language_info": {
   "codemirror_mode": {
    "name": "ipython",
    "version": 3
   },
   "file_extension": ".py",
   "mimetype": "text/x-python",
   "name": "python",
   "nbconvert_exporter": "python",
   "pygments_lexer": "ipython3",
   "version": "3.9.7"
  }
 },
 "nbformat": 4,
 "nbformat_minor": 2
}
